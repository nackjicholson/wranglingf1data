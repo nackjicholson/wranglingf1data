{
 "cells": [
  {
   "cell_type": "code",
   "execution_count": 1,
   "metadata": {
    "collapsed": true
   },
   "outputs": [],
   "source": [
    "import os\n",
    "import pandas as pd"
   ]
  },
  {
   "cell_type": "code",
   "execution_count": 2,
   "metadata": {
    "collapsed": false
   },
   "outputs": [
    {
     "data": {
      "text/plain": [
       "'/Users/nackjicholson/repos/wranglingf1data'"
      ]
     },
     "execution_count": 2,
     "metadata": {},
     "output_type": "execute_result"
    }
   ],
   "source": [
    "os.getcwd()"
   ]
  },
  {
   "cell_type": "code",
   "execution_count": 3,
   "metadata": {
    "collapsed": false
   },
   "outputs": [
    {
     "data": {
      "text/plain": [
       "['Hamilton',\n",
       " 'Rosberg',\n",
       " 'Vettel',\n",
       " 'Ricciardo',\n",
       " 'Alonso',\n",
       " 'Raikkonen',\n",
       " 'Button',\n",
       " 'Magnussen']"
      ]
     },
     "execution_count": 3,
     "metadata": {},
     "output_type": "execute_result"
    }
   ],
   "source": [
    "# Making a list\n",
    "['Hamilton', 'Rosberg', 'Vettel', 'Ricciardo', 'Alonso', 'Raikkonen', 'Button', 'Magnussen']"
   ]
  },
  {
   "cell_type": "code",
   "execution_count": 4,
   "metadata": {
    "collapsed": false
   },
   "outputs": [
    {
     "data": {
      "text/html": [
       "<div>\n",
       "<table border=\"1\" class=\"dataframe\">\n",
       "  <thead>\n",
       "    <tr style=\"text-align: right;\">\n",
       "      <th></th>\n",
       "      <th>carNum</th>\n",
       "      <th>pos</th>\n",
       "      <th>driverId</th>\n",
       "      <th>constructorId</th>\n",
       "      <th>grid</th>\n",
       "      <th>fastlaptime</th>\n",
       "      <th>fastlaprank</th>\n",
       "      <th>race</th>\n",
       "    </tr>\n",
       "  </thead>\n",
       "  <tbody>\n",
       "    <tr>\n",
       "      <th>0</th>\n",
       "      <td>6</td>\n",
       "      <td>1</td>\n",
       "      <td>rosberg</td>\n",
       "      <td>mercedes</td>\n",
       "      <td>3</td>\n",
       "      <td>92.478</td>\n",
       "      <td>1</td>\n",
       "      <td>Australia</td>\n",
       "    </tr>\n",
       "    <tr>\n",
       "      <th>1</th>\n",
       "      <td>20</td>\n",
       "      <td>2</td>\n",
       "      <td>kevin_magnussen</td>\n",
       "      <td>mclaren</td>\n",
       "      <td>4</td>\n",
       "      <td>93.066</td>\n",
       "      <td>6</td>\n",
       "      <td>Australia</td>\n",
       "    </tr>\n",
       "    <tr>\n",
       "      <th>2</th>\n",
       "      <td>22</td>\n",
       "      <td>3</td>\n",
       "      <td>button</td>\n",
       "      <td>mclaren</td>\n",
       "      <td>10</td>\n",
       "      <td>92.917</td>\n",
       "      <td>5</td>\n",
       "      <td>Australia</td>\n",
       "    </tr>\n",
       "    <tr>\n",
       "      <th>3</th>\n",
       "      <td>44</td>\n",
       "      <td>1</td>\n",
       "      <td>hamilton</td>\n",
       "      <td>mercedes</td>\n",
       "      <td>1</td>\n",
       "      <td>103.066</td>\n",
       "      <td>1</td>\n",
       "      <td>Malaysia</td>\n",
       "    </tr>\n",
       "    <tr>\n",
       "      <th>4</th>\n",
       "      <td>6</td>\n",
       "      <td>2</td>\n",
       "      <td>rosberg</td>\n",
       "      <td>mercedes</td>\n",
       "      <td>3</td>\n",
       "      <td>103.960</td>\n",
       "      <td>2</td>\n",
       "      <td>Malaysia</td>\n",
       "    </tr>\n",
       "    <tr>\n",
       "      <th>5</th>\n",
       "      <td>1</td>\n",
       "      <td>3</td>\n",
       "      <td>vettel</td>\n",
       "      <td>red_bull</td>\n",
       "      <td>2</td>\n",
       "      <td>104.289</td>\n",
       "      <td>4</td>\n",
       "      <td>Malaysia</td>\n",
       "    </tr>\n",
       "    <tr>\n",
       "      <th>6</th>\n",
       "      <td>44</td>\n",
       "      <td>1</td>\n",
       "      <td>hamilton</td>\n",
       "      <td>mercedes</td>\n",
       "      <td>2</td>\n",
       "      <td>97.108</td>\n",
       "      <td>2</td>\n",
       "      <td>Bahrain</td>\n",
       "    </tr>\n",
       "    <tr>\n",
       "      <th>7</th>\n",
       "      <td>6</td>\n",
       "      <td>2</td>\n",
       "      <td>rosberg</td>\n",
       "      <td>mercedes</td>\n",
       "      <td>1</td>\n",
       "      <td>97.020</td>\n",
       "      <td>1</td>\n",
       "      <td>Bahrain</td>\n",
       "    </tr>\n",
       "    <tr>\n",
       "      <th>8</th>\n",
       "      <td>11</td>\n",
       "      <td>3</td>\n",
       "      <td>perez</td>\n",
       "      <td>force_india</td>\n",
       "      <td>4</td>\n",
       "      <td>99.320</td>\n",
       "      <td>7</td>\n",
       "      <td>Bahrain</td>\n",
       "    </tr>\n",
       "  </tbody>\n",
       "</table>\n",
       "</div>"
      ],
      "text/plain": [
       "   carNum  pos         driverId constructorId  grid  fastlaptime  fastlaprank  \\\n",
       "0       6    1          rosberg      mercedes     3       92.478            1   \n",
       "1      20    2  kevin_magnussen       mclaren     4       93.066            6   \n",
       "2      22    3           button       mclaren    10       92.917            5   \n",
       "3      44    1         hamilton      mercedes     1      103.066            1   \n",
       "4       6    2          rosberg      mercedes     3      103.960            2   \n",
       "5       1    3           vettel      red_bull     2      104.289            4   \n",
       "6      44    1         hamilton      mercedes     2       97.108            2   \n",
       "7       6    2          rosberg      mercedes     1       97.020            1   \n",
       "8      11    3            perez   force_india     4       99.320            7   \n",
       "\n",
       "        race  \n",
       "0  Australia  \n",
       "1  Australia  \n",
       "2  Australia  \n",
       "3   Malaysia  \n",
       "4   Malaysia  \n",
       "5   Malaysia  \n",
       "6    Bahrain  \n",
       "7    Bahrain  \n",
       "8    Bahrain  "
      ]
     },
     "execution_count": 4,
     "metadata": {},
     "output_type": "execute_result"
    }
   ],
   "source": [
    "# Loading a Dataframe from an online csv\n",
    "url = 'https://gist.githubusercontent.com/psychemedia/11187809/raw/31f8deab586322514b375ef581e83c909ab12d3c/winners2014start.csv'\n",
    "winners = pd.read_csv(url)\n",
    "winners"
   ]
  },
  {
   "cell_type": "code",
   "execution_count": 5,
   "metadata": {
    "collapsed": false
   },
   "outputs": [
    {
     "data": {
      "text/plain": [
       "0            rosberg\n",
       "1    kevin_magnussen\n",
       "2             button\n",
       "3           hamilton\n",
       "4            rosberg\n",
       "5             vettel\n",
       "6           hamilton\n",
       "7            rosberg\n",
       "8              perez\n",
       "Name: driverId, dtype: object"
      ]
     },
     "execution_count": 5,
     "metadata": {},
     "output_type": "execute_result"
    }
   ],
   "source": [
    "# Column selection\n",
    "# driverId as a pd.Series\n",
    "winners['driverId']"
   ]
  },
  {
   "cell_type": "code",
   "execution_count": 6,
   "metadata": {
    "collapsed": false
   },
   "outputs": [
    {
     "data": {
      "text/html": [
       "<div>\n",
       "<table border=\"1\" class=\"dataframe\">\n",
       "  <thead>\n",
       "    <tr style=\"text-align: right;\">\n",
       "      <th></th>\n",
       "      <th>driverId</th>\n",
       "    </tr>\n",
       "  </thead>\n",
       "  <tbody>\n",
       "    <tr>\n",
       "      <th>0</th>\n",
       "      <td>rosberg</td>\n",
       "    </tr>\n",
       "    <tr>\n",
       "      <th>1</th>\n",
       "      <td>kevin_magnussen</td>\n",
       "    </tr>\n",
       "    <tr>\n",
       "      <th>2</th>\n",
       "      <td>button</td>\n",
       "    </tr>\n",
       "    <tr>\n",
       "      <th>3</th>\n",
       "      <td>hamilton</td>\n",
       "    </tr>\n",
       "    <tr>\n",
       "      <th>4</th>\n",
       "      <td>rosberg</td>\n",
       "    </tr>\n",
       "    <tr>\n",
       "      <th>5</th>\n",
       "      <td>vettel</td>\n",
       "    </tr>\n",
       "    <tr>\n",
       "      <th>6</th>\n",
       "      <td>hamilton</td>\n",
       "    </tr>\n",
       "    <tr>\n",
       "      <th>7</th>\n",
       "      <td>rosberg</td>\n",
       "    </tr>\n",
       "    <tr>\n",
       "      <th>8</th>\n",
       "      <td>perez</td>\n",
       "    </tr>\n",
       "  </tbody>\n",
       "</table>\n",
       "</div>"
      ],
      "text/plain": [
       "          driverId\n",
       "0          rosberg\n",
       "1  kevin_magnussen\n",
       "2           button\n",
       "3         hamilton\n",
       "4          rosberg\n",
       "5           vettel\n",
       "6         hamilton\n",
       "7          rosberg\n",
       "8            perez"
      ]
     },
     "execution_count": 6,
     "metadata": {},
     "output_type": "execute_result"
    }
   ],
   "source": [
    "# Select a new dataframe with only the driverId column\n",
    "winners[['driverId']]"
   ]
  },
  {
   "cell_type": "code",
   "execution_count": 7,
   "metadata": {
    "collapsed": false
   },
   "outputs": [
    {
     "data": {
      "text/plain": [
       "0     6\n",
       "1    20\n",
       "2    22\n",
       "3    44\n",
       "4     6\n",
       "5     1\n",
       "6    44\n",
       "7     6\n",
       "8    11\n",
       "Name: carNum, dtype: category\n",
       "Categories (6, int64): [1, 6, 11, 20, 22, 44]"
      ]
     },
     "execution_count": 7,
     "metadata": {},
     "output_type": "execute_result"
    }
   ],
   "source": [
    "# Setting carNum to an enumerable Category type, instead of int64 type\n",
    "winners['carNum'] = winners['carNum'].astype('category')\n",
    "winners['carNum']"
   ]
  },
  {
   "cell_type": "markdown",
   "metadata": {},
   "source": [
    "[More on Pandas Categories](http://pandas.pydata.org/pandas-docs/stable/categorical.html)"
   ]
  },
  {
   "cell_type": "code",
   "execution_count": 8,
   "metadata": {
    "collapsed": false
   },
   "outputs": [
    {
     "data": {
      "text/plain": [
       "Int64Index([1, 6, 11, 20, 22, 44], dtype='int64')"
      ]
     },
     "execution_count": 8,
     "metadata": {},
     "output_type": "execute_result"
    }
   ],
   "source": [
    "winners['carNum'].cat.categories"
   ]
  },
  {
   "cell_type": "code",
   "execution_count": 9,
   "metadata": {
    "collapsed": false
   },
   "outputs": [
    {
     "data": {
      "text/html": [
       "<div>\n",
       "<table border=\"1\" class=\"dataframe\">\n",
       "  <thead>\n",
       "    <tr style=\"text-align: right;\">\n",
       "      <th></th>\n",
       "      <th>pos</th>\n",
       "      <th>grid</th>\n",
       "      <th>fastlaptime</th>\n",
       "      <th>fastlaprank</th>\n",
       "    </tr>\n",
       "  </thead>\n",
       "  <tbody>\n",
       "    <tr>\n",
       "      <th>count</th>\n",
       "      <td>9.000000</td>\n",
       "      <td>9.000000</td>\n",
       "      <td>9.000000</td>\n",
       "      <td>9.000000</td>\n",
       "    </tr>\n",
       "    <tr>\n",
       "      <th>mean</th>\n",
       "      <td>2.000000</td>\n",
       "      <td>3.333333</td>\n",
       "      <td>98.136000</td>\n",
       "      <td>3.222222</td>\n",
       "    </tr>\n",
       "    <tr>\n",
       "      <th>std</th>\n",
       "      <td>0.866025</td>\n",
       "      <td>2.738613</td>\n",
       "      <td>4.805507</td>\n",
       "      <td>2.333333</td>\n",
       "    </tr>\n",
       "    <tr>\n",
       "      <th>min</th>\n",
       "      <td>1.000000</td>\n",
       "      <td>1.000000</td>\n",
       "      <td>92.478000</td>\n",
       "      <td>1.000000</td>\n",
       "    </tr>\n",
       "    <tr>\n",
       "      <th>25%</th>\n",
       "      <td>1.000000</td>\n",
       "      <td>2.000000</td>\n",
       "      <td>93.066000</td>\n",
       "      <td>1.000000</td>\n",
       "    </tr>\n",
       "    <tr>\n",
       "      <th>50%</th>\n",
       "      <td>2.000000</td>\n",
       "      <td>3.000000</td>\n",
       "      <td>97.108000</td>\n",
       "      <td>2.000000</td>\n",
       "    </tr>\n",
       "    <tr>\n",
       "      <th>75%</th>\n",
       "      <td>3.000000</td>\n",
       "      <td>4.000000</td>\n",
       "      <td>103.066000</td>\n",
       "      <td>5.000000</td>\n",
       "    </tr>\n",
       "    <tr>\n",
       "      <th>max</th>\n",
       "      <td>3.000000</td>\n",
       "      <td>10.000000</td>\n",
       "      <td>104.289000</td>\n",
       "      <td>7.000000</td>\n",
       "    </tr>\n",
       "  </tbody>\n",
       "</table>\n",
       "</div>"
      ],
      "text/plain": [
       "            pos       grid  fastlaptime  fastlaprank\n",
       "count  9.000000   9.000000     9.000000     9.000000\n",
       "mean   2.000000   3.333333    98.136000     3.222222\n",
       "std    0.866025   2.738613     4.805507     2.333333\n",
       "min    1.000000   1.000000    92.478000     1.000000\n",
       "25%    1.000000   2.000000    93.066000     1.000000\n",
       "50%    2.000000   3.000000    97.108000     2.000000\n",
       "75%    3.000000   4.000000   103.066000     5.000000\n",
       "max    3.000000  10.000000   104.289000     7.000000"
      ]
     },
     "execution_count": 9,
     "metadata": {},
     "output_type": "execute_result"
    }
   ],
   "source": [
    "# Statistical information about the winners dataframe\n",
    "winners.describe()"
   ]
  },
  {
   "cell_type": "code",
   "execution_count": 10,
   "metadata": {
    "collapsed": false
   },
   "outputs": [
    {
     "data": {
      "text/html": [
       "<div>\n",
       "<table border=\"1\" class=\"dataframe\">\n",
       "  <thead>\n",
       "    <tr style=\"text-align: right;\">\n",
       "      <th></th>\n",
       "      <th>carNum</th>\n",
       "      <th>pos</th>\n",
       "      <th>driverId</th>\n",
       "      <th>constructorId</th>\n",
       "      <th>grid</th>\n",
       "      <th>fastlaptime</th>\n",
       "      <th>fastlaprank</th>\n",
       "      <th>race</th>\n",
       "    </tr>\n",
       "  </thead>\n",
       "  <tbody>\n",
       "    <tr>\n",
       "      <th>0</th>\n",
       "      <td>6</td>\n",
       "      <td>1</td>\n",
       "      <td>rosberg</td>\n",
       "      <td>mercedes</td>\n",
       "      <td>3</td>\n",
       "      <td>92.478</td>\n",
       "      <td>1</td>\n",
       "      <td>Australia</td>\n",
       "    </tr>\n",
       "    <tr>\n",
       "      <th>1</th>\n",
       "      <td>20</td>\n",
       "      <td>2</td>\n",
       "      <td>kevin_magnussen</td>\n",
       "      <td>mclaren</td>\n",
       "      <td>4</td>\n",
       "      <td>93.066</td>\n",
       "      <td>6</td>\n",
       "      <td>Australia</td>\n",
       "    </tr>\n",
       "    <tr>\n",
       "      <th>2</th>\n",
       "      <td>22</td>\n",
       "      <td>3</td>\n",
       "      <td>button</td>\n",
       "      <td>mclaren</td>\n",
       "      <td>10</td>\n",
       "      <td>92.917</td>\n",
       "      <td>5</td>\n",
       "      <td>Australia</td>\n",
       "    </tr>\n",
       "  </tbody>\n",
       "</table>\n",
       "</div>"
      ],
      "text/plain": [
       "  carNum  pos         driverId constructorId  grid  fastlaptime  fastlaprank  \\\n",
       "0      6    1          rosberg      mercedes     3       92.478            1   \n",
       "1     20    2  kevin_magnussen       mclaren     4       93.066            6   \n",
       "2     22    3           button       mclaren    10       92.917            5   \n",
       "\n",
       "        race  \n",
       "0  Australia  \n",
       "1  Australia  \n",
       "2  Australia  "
      ]
     },
     "execution_count": 10,
     "metadata": {},
     "output_type": "execute_result"
    }
   ],
   "source": [
    "winners.head(3)"
   ]
  },
  {
   "cell_type": "code",
   "execution_count": 11,
   "metadata": {
    "collapsed": false
   },
   "outputs": [
    {
     "data": {
      "text/plain": [
       "Index(['carNum', 'pos', 'driverId', 'constructorId', 'grid', 'fastlaptime',\n",
       "       'fastlaprank', 'race'],\n",
       "      dtype='object')"
      ]
     },
     "execution_count": 11,
     "metadata": {},
     "output_type": "execute_result"
    }
   ],
   "source": [
    "winners.columns"
   ]
  },
  {
   "cell_type": "code",
   "execution_count": 12,
   "metadata": {
    "collapsed": false
   },
   "outputs": [
    {
     "data": {
      "text/html": [
       "<div>\n",
       "<table border=\"1\" class=\"dataframe\">\n",
       "  <thead>\n",
       "    <tr style=\"text-align: right;\">\n",
       "      <th></th>\n",
       "      <th>origcol</th>\n",
       "    </tr>\n",
       "  </thead>\n",
       "  <tbody>\n",
       "    <tr>\n",
       "      <th>0</th>\n",
       "      <td>a</td>\n",
       "    </tr>\n",
       "    <tr>\n",
       "      <th>1</th>\n",
       "      <td>b</td>\n",
       "    </tr>\n",
       "    <tr>\n",
       "      <th>2</th>\n",
       "      <td>c</td>\n",
       "    </tr>\n",
       "  </tbody>\n",
       "</table>\n",
       "</div>"
      ],
      "text/plain": [
       "  origcol\n",
       "0       a\n",
       "1       b\n",
       "2       c"
      ]
     },
     "execution_count": 12,
     "metadata": {},
     "output_type": "execute_result"
    }
   ],
   "source": [
    "# Vectorized Computation with dataframes\n",
    "tmp = pd.DataFrame({'origcol': list('abc')})\n",
    "tmp"
   ]
  },
  {
   "cell_type": "code",
   "execution_count": 13,
   "metadata": {
    "collapsed": false
   },
   "outputs": [
    {
     "data": {
      "text/html": [
       "<div>\n",
       "<table border=\"1\" class=\"dataframe\">\n",
       "  <thead>\n",
       "    <tr style=\"text-align: right;\">\n",
       "      <th></th>\n",
       "      <th>origcol</th>\n",
       "      <th>newcol</th>\n",
       "    </tr>\n",
       "  </thead>\n",
       "  <tbody>\n",
       "    <tr>\n",
       "      <th>0</th>\n",
       "      <td>a</td>\n",
       "      <td>1</td>\n",
       "    </tr>\n",
       "    <tr>\n",
       "      <th>1</th>\n",
       "      <td>b</td>\n",
       "      <td>1</td>\n",
       "    </tr>\n",
       "    <tr>\n",
       "      <th>2</th>\n",
       "      <td>c</td>\n",
       "      <td>1</td>\n",
       "    </tr>\n",
       "  </tbody>\n",
       "</table>\n",
       "</div>"
      ],
      "text/plain": [
       "  origcol  newcol\n",
       "0       a       1\n",
       "1       b       1\n",
       "2       c       1"
      ]
     },
     "execution_count": 13,
     "metadata": {},
     "output_type": "execute_result"
    }
   ],
   "source": [
    "tmp['newcol'] = 1\n",
    "tmp"
   ]
  },
  {
   "cell_type": "code",
   "execution_count": 14,
   "metadata": {
    "collapsed": false
   },
   "outputs": [
    {
     "data": {
      "text/plain": [
       "(3, 2)"
      ]
     },
     "execution_count": 14,
     "metadata": {},
     "output_type": "execute_result"
    }
   ],
   "source": [
    "tmpShape = tmp.shape\n",
    "tmpShape"
   ]
  },
  {
   "cell_type": "code",
   "execution_count": 15,
   "metadata": {
    "collapsed": false
   },
   "outputs": [
    {
     "data": {
      "text/plain": [
       "3"
      ]
     },
     "execution_count": 15,
     "metadata": {},
     "output_type": "execute_result"
    }
   ],
   "source": [
    "numRows = tmpShape[0]\n",
    "numRows"
   ]
  },
  {
   "cell_type": "code",
   "execution_count": 16,
   "metadata": {
    "collapsed": false
   },
   "outputs": [
    {
     "data": {
      "text/plain": [
       "3"
      ]
     },
     "execution_count": 16,
     "metadata": {},
     "output_type": "execute_result"
    }
   ],
   "source": [
    "numRowsAlt = len(tmp.index)\n",
    "numRowsAlt"
   ]
  },
  {
   "cell_type": "code",
   "execution_count": 17,
   "metadata": {
    "collapsed": false
   },
   "outputs": [
    {
     "data": {
      "text/html": [
       "<div>\n",
       "<table border=\"1\" class=\"dataframe\">\n",
       "  <thead>\n",
       "    <tr style=\"text-align: right;\">\n",
       "      <th></th>\n",
       "      <th>origcol</th>\n",
       "      <th>newcol</th>\n",
       "      <th>newcol2</th>\n",
       "    </tr>\n",
       "  </thead>\n",
       "  <tbody>\n",
       "    <tr>\n",
       "      <th>0</th>\n",
       "      <td>a</td>\n",
       "      <td>1</td>\n",
       "      <td>1</td>\n",
       "    </tr>\n",
       "    <tr>\n",
       "      <th>1</th>\n",
       "      <td>b</td>\n",
       "      <td>1</td>\n",
       "      <td>2</td>\n",
       "    </tr>\n",
       "    <tr>\n",
       "      <th>2</th>\n",
       "      <td>c</td>\n",
       "      <td>1</td>\n",
       "      <td>3</td>\n",
       "    </tr>\n",
       "  </tbody>\n",
       "</table>\n",
       "</div>"
      ],
      "text/plain": [
       "  origcol  newcol  newcol2\n",
       "0       a       1        1\n",
       "1       b       1        2\n",
       "2       c       1        3"
      ]
     },
     "execution_count": 17,
     "metadata": {},
     "output_type": "execute_result"
    }
   ],
   "source": [
    "# newcol2 is a row number column that starts at 1 instead of 0\n",
    "tmp['newcol2'] = range(1, numRows + 1)\n",
    "tmp"
   ]
  },
  {
   "cell_type": "code",
   "execution_count": 18,
   "metadata": {
    "collapsed": true
   },
   "outputs": [],
   "source": [
    "winners2 = winners.copy()"
   ]
  },
  {
   "cell_type": "code",
   "execution_count": 19,
   "metadata": {
    "collapsed": false
   },
   "outputs": [],
   "source": [
    "winners2['posdelta'], winners2['poslapdelta'] = [winners2['grid'] - winners2['pos'], winners2['fastlaprank'] - winners2['pos']]"
   ]
  },
  {
   "cell_type": "code",
   "execution_count": 20,
   "metadata": {
    "collapsed": false
   },
   "outputs": [
    {
     "data": {
      "text/html": [
       "<div>\n",
       "<table border=\"1\" class=\"dataframe\">\n",
       "  <thead>\n",
       "    <tr style=\"text-align: right;\">\n",
       "      <th></th>\n",
       "      <th>carNum</th>\n",
       "      <th>pos</th>\n",
       "      <th>driverId</th>\n",
       "      <th>constructorId</th>\n",
       "      <th>grid</th>\n",
       "      <th>fastlaptime</th>\n",
       "      <th>fastlaprank</th>\n",
       "      <th>race</th>\n",
       "      <th>posdelta</th>\n",
       "      <th>poslapdelta</th>\n",
       "    </tr>\n",
       "  </thead>\n",
       "  <tbody>\n",
       "    <tr>\n",
       "      <th>0</th>\n",
       "      <td>6</td>\n",
       "      <td>1</td>\n",
       "      <td>rosberg</td>\n",
       "      <td>mercedes</td>\n",
       "      <td>3</td>\n",
       "      <td>92.478</td>\n",
       "      <td>1</td>\n",
       "      <td>Australia</td>\n",
       "      <td>2</td>\n",
       "      <td>0</td>\n",
       "    </tr>\n",
       "    <tr>\n",
       "      <th>1</th>\n",
       "      <td>20</td>\n",
       "      <td>2</td>\n",
       "      <td>kevin_magnussen</td>\n",
       "      <td>mclaren</td>\n",
       "      <td>4</td>\n",
       "      <td>93.066</td>\n",
       "      <td>6</td>\n",
       "      <td>Australia</td>\n",
       "      <td>2</td>\n",
       "      <td>4</td>\n",
       "    </tr>\n",
       "    <tr>\n",
       "      <th>2</th>\n",
       "      <td>22</td>\n",
       "      <td>3</td>\n",
       "      <td>button</td>\n",
       "      <td>mclaren</td>\n",
       "      <td>10</td>\n",
       "      <td>92.917</td>\n",
       "      <td>5</td>\n",
       "      <td>Australia</td>\n",
       "      <td>7</td>\n",
       "      <td>2</td>\n",
       "    </tr>\n",
       "  </tbody>\n",
       "</table>\n",
       "</div>"
      ],
      "text/plain": [
       "  carNum  pos         driverId constructorId  grid  fastlaptime  fastlaprank  \\\n",
       "0      6    1          rosberg      mercedes     3       92.478            1   \n",
       "1     20    2  kevin_magnussen       mclaren     4       93.066            6   \n",
       "2     22    3           button       mclaren    10       92.917            5   \n",
       "\n",
       "        race  posdelta  poslapdelta  \n",
       "0  Australia         2            0  \n",
       "1  Australia         2            4  \n",
       "2  Australia         7            2  "
      ]
     },
     "execution_count": 20,
     "metadata": {},
     "output_type": "execute_result"
    }
   ],
   "source": [
    "winners2.head(3)"
   ]
  },
  {
   "cell_type": "code",
   "execution_count": 21,
   "metadata": {
    "collapsed": false
   },
   "outputs": [
    {
     "data": {
      "text/html": [
       "<div>\n",
       "<table border=\"1\" class=\"dataframe\">\n",
       "  <thead>\n",
       "    <tr style=\"text-align: right;\">\n",
       "      <th></th>\n",
       "      <th>carNum</th>\n",
       "      <th>pos</th>\n",
       "      <th>driverId</th>\n",
       "      <th>constructorId</th>\n",
       "      <th>grid</th>\n",
       "      <th>fastlaptime</th>\n",
       "      <th>fastlaprank</th>\n",
       "      <th>race</th>\n",
       "    </tr>\n",
       "  </thead>\n",
       "  <tbody>\n",
       "    <tr>\n",
       "      <th>1</th>\n",
       "      <td>20</td>\n",
       "      <td>2</td>\n",
       "      <td>kevin_magnussen</td>\n",
       "      <td>mclaren</td>\n",
       "      <td>4</td>\n",
       "      <td>93.066</td>\n",
       "      <td>6</td>\n",
       "      <td>Australia</td>\n",
       "    </tr>\n",
       "    <tr>\n",
       "      <th>2</th>\n",
       "      <td>22</td>\n",
       "      <td>3</td>\n",
       "      <td>button</td>\n",
       "      <td>mclaren</td>\n",
       "      <td>10</td>\n",
       "      <td>92.917</td>\n",
       "      <td>5</td>\n",
       "      <td>Australia</td>\n",
       "    </tr>\n",
       "    <tr>\n",
       "      <th>4</th>\n",
       "      <td>6</td>\n",
       "      <td>2</td>\n",
       "      <td>rosberg</td>\n",
       "      <td>mercedes</td>\n",
       "      <td>3</td>\n",
       "      <td>103.960</td>\n",
       "      <td>2</td>\n",
       "      <td>Malaysia</td>\n",
       "    </tr>\n",
       "    <tr>\n",
       "      <th>5</th>\n",
       "      <td>1</td>\n",
       "      <td>3</td>\n",
       "      <td>vettel</td>\n",
       "      <td>red_bull</td>\n",
       "      <td>2</td>\n",
       "      <td>104.289</td>\n",
       "      <td>4</td>\n",
       "      <td>Malaysia</td>\n",
       "    </tr>\n",
       "    <tr>\n",
       "      <th>7</th>\n",
       "      <td>6</td>\n",
       "      <td>2</td>\n",
       "      <td>rosberg</td>\n",
       "      <td>mercedes</td>\n",
       "      <td>1</td>\n",
       "      <td>97.020</td>\n",
       "      <td>1</td>\n",
       "      <td>Bahrain</td>\n",
       "    </tr>\n",
       "    <tr>\n",
       "      <th>8</th>\n",
       "      <td>11</td>\n",
       "      <td>3</td>\n",
       "      <td>perez</td>\n",
       "      <td>force_india</td>\n",
       "      <td>4</td>\n",
       "      <td>99.320</td>\n",
       "      <td>7</td>\n",
       "      <td>Bahrain</td>\n",
       "    </tr>\n",
       "  </tbody>\n",
       "</table>\n",
       "</div>"
      ],
      "text/plain": [
       "  carNum  pos         driverId constructorId  grid  fastlaptime  fastlaprank  \\\n",
       "1     20    2  kevin_magnussen       mclaren     4       93.066            6   \n",
       "2     22    3           button       mclaren    10       92.917            5   \n",
       "4      6    2          rosberg      mercedes     3      103.960            2   \n",
       "5      1    3           vettel      red_bull     2      104.289            4   \n",
       "7      6    2          rosberg      mercedes     1       97.020            1   \n",
       "8     11    3            perez   force_india     4       99.320            7   \n",
       "\n",
       "        race  \n",
       "1  Australia  \n",
       "2  Australia  \n",
       "4   Malaysia  \n",
       "5   Malaysia  \n",
       "7    Bahrain  \n",
       "8    Bahrain  "
      ]
     },
     "execution_count": 21,
     "metadata": {},
     "output_type": "execute_result"
    }
   ],
   "source": [
    "# Filtering dataframes\n",
    "winners[(winners['pos'] == 2) | (winners['pos'] == 3)]"
   ]
  },
  {
   "cell_type": "code",
   "execution_count": 22,
   "metadata": {
    "collapsed": false
   },
   "outputs": [
    {
     "data": {
      "text/html": [
       "<div>\n",
       "<table border=\"1\" class=\"dataframe\">\n",
       "  <thead>\n",
       "    <tr style=\"text-align: right;\">\n",
       "      <th></th>\n",
       "      <th>carNum</th>\n",
       "      <th>pos</th>\n",
       "      <th>driverId</th>\n",
       "      <th>constructorId</th>\n",
       "      <th>grid</th>\n",
       "      <th>fastlaptime</th>\n",
       "      <th>fastlaprank</th>\n",
       "      <th>race</th>\n",
       "    </tr>\n",
       "  </thead>\n",
       "  <tbody>\n",
       "    <tr>\n",
       "      <th>1</th>\n",
       "      <td>20</td>\n",
       "      <td>2</td>\n",
       "      <td>kevin_magnussen</td>\n",
       "      <td>mclaren</td>\n",
       "      <td>4</td>\n",
       "      <td>93.066</td>\n",
       "      <td>6</td>\n",
       "      <td>Australia</td>\n",
       "    </tr>\n",
       "    <tr>\n",
       "      <th>2</th>\n",
       "      <td>22</td>\n",
       "      <td>3</td>\n",
       "      <td>button</td>\n",
       "      <td>mclaren</td>\n",
       "      <td>10</td>\n",
       "      <td>92.917</td>\n",
       "      <td>5</td>\n",
       "      <td>Australia</td>\n",
       "    </tr>\n",
       "    <tr>\n",
       "      <th>4</th>\n",
       "      <td>6</td>\n",
       "      <td>2</td>\n",
       "      <td>rosberg</td>\n",
       "      <td>mercedes</td>\n",
       "      <td>3</td>\n",
       "      <td>103.960</td>\n",
       "      <td>2</td>\n",
       "      <td>Malaysia</td>\n",
       "    </tr>\n",
       "    <tr>\n",
       "      <th>5</th>\n",
       "      <td>1</td>\n",
       "      <td>3</td>\n",
       "      <td>vettel</td>\n",
       "      <td>red_bull</td>\n",
       "      <td>2</td>\n",
       "      <td>104.289</td>\n",
       "      <td>4</td>\n",
       "      <td>Malaysia</td>\n",
       "    </tr>\n",
       "    <tr>\n",
       "      <th>7</th>\n",
       "      <td>6</td>\n",
       "      <td>2</td>\n",
       "      <td>rosberg</td>\n",
       "      <td>mercedes</td>\n",
       "      <td>1</td>\n",
       "      <td>97.020</td>\n",
       "      <td>1</td>\n",
       "      <td>Bahrain</td>\n",
       "    </tr>\n",
       "    <tr>\n",
       "      <th>8</th>\n",
       "      <td>11</td>\n",
       "      <td>3</td>\n",
       "      <td>perez</td>\n",
       "      <td>force_india</td>\n",
       "      <td>4</td>\n",
       "      <td>99.320</td>\n",
       "      <td>7</td>\n",
       "      <td>Bahrain</td>\n",
       "    </tr>\n",
       "  </tbody>\n",
       "</table>\n",
       "</div>"
      ],
      "text/plain": [
       "  carNum  pos         driverId constructorId  grid  fastlaptime  fastlaprank  \\\n",
       "1     20    2  kevin_magnussen       mclaren     4       93.066            6   \n",
       "2     22    3           button       mclaren    10       92.917            5   \n",
       "4      6    2          rosberg      mercedes     3      103.960            2   \n",
       "5      1    3           vettel      red_bull     2      104.289            4   \n",
       "7      6    2          rosberg      mercedes     1       97.020            1   \n",
       "8     11    3            perez   force_india     4       99.320            7   \n",
       "\n",
       "        race  \n",
       "1  Australia  \n",
       "2  Australia  \n",
       "4   Malaysia  \n",
       "5   Malaysia  \n",
       "7    Bahrain  \n",
       "8    Bahrain  "
      ]
     },
     "execution_count": 22,
     "metadata": {},
     "output_type": "execute_result"
    }
   ],
   "source": [
    "winners[winners['pos'] != 1]"
   ]
  },
  {
   "cell_type": "code",
   "execution_count": 23,
   "metadata": {
    "collapsed": false
   },
   "outputs": [
    {
     "data": {
      "text/plain": [
       "0    False\n",
       "1     True\n",
       "2     True\n",
       "3    False\n",
       "4     True\n",
       "5     True\n",
       "6    False\n",
       "7     True\n",
       "8     True\n",
       "Name: pos, dtype: bool"
      ]
     },
     "execution_count": 23,
     "metadata": {},
     "output_type": "execute_result"
    }
   ],
   "source": [
    "winners['pos'] != 1"
   ]
  },
  {
   "cell_type": "code",
   "execution_count": 24,
   "metadata": {
    "collapsed": false
   },
   "outputs": [
    {
     "data": {
      "text/html": [
       "<div>\n",
       "<table border=\"1\" class=\"dataframe\">\n",
       "  <thead>\n",
       "    <tr style=\"text-align: right;\">\n",
       "      <th></th>\n",
       "      <th>driverId</th>\n",
       "      <th>race</th>\n",
       "      <th>pos</th>\n",
       "    </tr>\n",
       "  </thead>\n",
       "  <tbody>\n",
       "    <tr>\n",
       "      <th>0</th>\n",
       "      <td>rosberg</td>\n",
       "      <td>Australia</td>\n",
       "      <td>1</td>\n",
       "    </tr>\n",
       "    <tr>\n",
       "      <th>1</th>\n",
       "      <td>kevin_magnussen</td>\n",
       "      <td>Australia</td>\n",
       "      <td>2</td>\n",
       "    </tr>\n",
       "    <tr>\n",
       "      <th>2</th>\n",
       "      <td>button</td>\n",
       "      <td>Australia</td>\n",
       "      <td>3</td>\n",
       "    </tr>\n",
       "    <tr>\n",
       "      <th>3</th>\n",
       "      <td>hamilton</td>\n",
       "      <td>Malaysia</td>\n",
       "      <td>1</td>\n",
       "    </tr>\n",
       "    <tr>\n",
       "      <th>4</th>\n",
       "      <td>rosberg</td>\n",
       "      <td>Malaysia</td>\n",
       "      <td>2</td>\n",
       "    </tr>\n",
       "    <tr>\n",
       "      <th>5</th>\n",
       "      <td>vettel</td>\n",
       "      <td>Malaysia</td>\n",
       "      <td>3</td>\n",
       "    </tr>\n",
       "    <tr>\n",
       "      <th>6</th>\n",
       "      <td>hamilton</td>\n",
       "      <td>Bahrain</td>\n",
       "      <td>1</td>\n",
       "    </tr>\n",
       "    <tr>\n",
       "      <th>7</th>\n",
       "      <td>rosberg</td>\n",
       "      <td>Bahrain</td>\n",
       "      <td>2</td>\n",
       "    </tr>\n",
       "    <tr>\n",
       "      <th>8</th>\n",
       "      <td>perez</td>\n",
       "      <td>Bahrain</td>\n",
       "      <td>3</td>\n",
       "    </tr>\n",
       "  </tbody>\n",
       "</table>\n",
       "</div>"
      ],
      "text/plain": [
       "          driverId       race  pos\n",
       "0          rosberg  Australia    1\n",
       "1  kevin_magnussen  Australia    2\n",
       "2           button  Australia    3\n",
       "3         hamilton   Malaysia    1\n",
       "4          rosberg   Malaysia    2\n",
       "5           vettel   Malaysia    3\n",
       "6         hamilton    Bahrain    1\n",
       "7          rosberg    Bahrain    2\n",
       "8            perez    Bahrain    3"
      ]
     },
     "execution_count": 24,
     "metadata": {},
     "output_type": "execute_result"
    }
   ],
   "source": [
    "winners[['driverId','race','pos']]"
   ]
  },
  {
   "cell_type": "code",
   "execution_count": 25,
   "metadata": {
    "collapsed": false
   },
   "outputs": [
    {
     "data": {
      "text/html": [
       "<div>\n",
       "<table border=\"1\" class=\"dataframe\">\n",
       "  <thead>\n",
       "    <tr style=\"text-align: right;\">\n",
       "      <th></th>\n",
       "      <th>driverId</th>\n",
       "      <th>race</th>\n",
       "    </tr>\n",
       "  </thead>\n",
       "  <tbody>\n",
       "    <tr>\n",
       "      <th>0</th>\n",
       "      <td>rosberg</td>\n",
       "      <td>Australia</td>\n",
       "    </tr>\n",
       "    <tr>\n",
       "      <th>3</th>\n",
       "      <td>hamilton</td>\n",
       "      <td>Malaysia</td>\n",
       "    </tr>\n",
       "    <tr>\n",
       "      <th>6</th>\n",
       "      <td>hamilton</td>\n",
       "      <td>Bahrain</td>\n",
       "    </tr>\n",
       "  </tbody>\n",
       "</table>\n",
       "</div>"
      ],
      "text/plain": [
       "   driverId       race\n",
       "0   rosberg  Australia\n",
       "3  hamilton   Malaysia\n",
       "6  hamilton    Bahrain"
      ]
     },
     "execution_count": 25,
     "metadata": {},
     "output_type": "execute_result"
    }
   ],
   "source": [
    "winners[winners['pos']==1][['driverId', 'race']]"
   ]
  },
  {
   "cell_type": "code",
   "execution_count": 26,
   "metadata": {
    "collapsed": false
   },
   "outputs": [
    {
     "data": {
      "text/html": [
       "<div>\n",
       "<table border=\"1\" class=\"dataframe\">\n",
       "  <thead>\n",
       "    <tr style=\"text-align: right;\">\n",
       "      <th></th>\n",
       "      <th>carNum</th>\n",
       "      <th>pos</th>\n",
       "      <th>driverId</th>\n",
       "      <th>constructorId</th>\n",
       "      <th>grid</th>\n",
       "      <th>fastlaptime</th>\n",
       "      <th>fastlaprank</th>\n",
       "      <th>race</th>\n",
       "    </tr>\n",
       "  </thead>\n",
       "  <tbody>\n",
       "    <tr>\n",
       "      <th>5</th>\n",
       "      <td>1</td>\n",
       "      <td>3</td>\n",
       "      <td>vettel</td>\n",
       "      <td>red_bull</td>\n",
       "      <td>2</td>\n",
       "      <td>104.289</td>\n",
       "      <td>4</td>\n",
       "      <td>Malaysia</td>\n",
       "    </tr>\n",
       "    <tr>\n",
       "      <th>0</th>\n",
       "      <td>6</td>\n",
       "      <td>1</td>\n",
       "      <td>rosberg</td>\n",
       "      <td>mercedes</td>\n",
       "      <td>3</td>\n",
       "      <td>92.478</td>\n",
       "      <td>1</td>\n",
       "      <td>Australia</td>\n",
       "    </tr>\n",
       "    <tr>\n",
       "      <th>4</th>\n",
       "      <td>6</td>\n",
       "      <td>2</td>\n",
       "      <td>rosberg</td>\n",
       "      <td>mercedes</td>\n",
       "      <td>3</td>\n",
       "      <td>103.960</td>\n",
       "      <td>2</td>\n",
       "      <td>Malaysia</td>\n",
       "    </tr>\n",
       "    <tr>\n",
       "      <th>7</th>\n",
       "      <td>6</td>\n",
       "      <td>2</td>\n",
       "      <td>rosberg</td>\n",
       "      <td>mercedes</td>\n",
       "      <td>1</td>\n",
       "      <td>97.020</td>\n",
       "      <td>1</td>\n",
       "      <td>Bahrain</td>\n",
       "    </tr>\n",
       "    <tr>\n",
       "      <th>8</th>\n",
       "      <td>11</td>\n",
       "      <td>3</td>\n",
       "      <td>perez</td>\n",
       "      <td>force_india</td>\n",
       "      <td>4</td>\n",
       "      <td>99.320</td>\n",
       "      <td>7</td>\n",
       "      <td>Bahrain</td>\n",
       "    </tr>\n",
       "    <tr>\n",
       "      <th>1</th>\n",
       "      <td>20</td>\n",
       "      <td>2</td>\n",
       "      <td>kevin_magnussen</td>\n",
       "      <td>mclaren</td>\n",
       "      <td>4</td>\n",
       "      <td>93.066</td>\n",
       "      <td>6</td>\n",
       "      <td>Australia</td>\n",
       "    </tr>\n",
       "    <tr>\n",
       "      <th>2</th>\n",
       "      <td>22</td>\n",
       "      <td>3</td>\n",
       "      <td>button</td>\n",
       "      <td>mclaren</td>\n",
       "      <td>10</td>\n",
       "      <td>92.917</td>\n",
       "      <td>5</td>\n",
       "      <td>Australia</td>\n",
       "    </tr>\n",
       "    <tr>\n",
       "      <th>3</th>\n",
       "      <td>44</td>\n",
       "      <td>1</td>\n",
       "      <td>hamilton</td>\n",
       "      <td>mercedes</td>\n",
       "      <td>1</td>\n",
       "      <td>103.066</td>\n",
       "      <td>1</td>\n",
       "      <td>Malaysia</td>\n",
       "    </tr>\n",
       "    <tr>\n",
       "      <th>6</th>\n",
       "      <td>44</td>\n",
       "      <td>1</td>\n",
       "      <td>hamilton</td>\n",
       "      <td>mercedes</td>\n",
       "      <td>2</td>\n",
       "      <td>97.108</td>\n",
       "      <td>2</td>\n",
       "      <td>Bahrain</td>\n",
       "    </tr>\n",
       "  </tbody>\n",
       "</table>\n",
       "</div>"
      ],
      "text/plain": [
       "  carNum  pos         driverId constructorId  grid  fastlaptime  fastlaprank  \\\n",
       "5      1    3           vettel      red_bull     2      104.289            4   \n",
       "0      6    1          rosberg      mercedes     3       92.478            1   \n",
       "4      6    2          rosberg      mercedes     3      103.960            2   \n",
       "7      6    2          rosberg      mercedes     1       97.020            1   \n",
       "8     11    3            perez   force_india     4       99.320            7   \n",
       "1     20    2  kevin_magnussen       mclaren     4       93.066            6   \n",
       "2     22    3           button       mclaren    10       92.917            5   \n",
       "3     44    1         hamilton      mercedes     1      103.066            1   \n",
       "6     44    1         hamilton      mercedes     2       97.108            2   \n",
       "\n",
       "        race  \n",
       "5   Malaysia  \n",
       "0  Australia  \n",
       "4   Malaysia  \n",
       "7    Bahrain  \n",
       "8    Bahrain  \n",
       "1  Australia  \n",
       "2  Australia  \n",
       "3   Malaysia  \n",
       "6    Bahrain  "
      ]
     },
     "execution_count": 26,
     "metadata": {},
     "output_type": "execute_result"
    }
   ],
   "source": [
    "winners.sort_values(by='carNum')"
   ]
  },
  {
   "cell_type": "code",
   "execution_count": null,
   "metadata": {
    "collapsed": true
   },
   "outputs": [],
   "source": []
  }
 ],
 "metadata": {
  "kernelspec": {
   "display_name": "Python [default]",
   "language": "python",
   "name": "python3"
  },
  "language_info": {
   "codemirror_mode": {
    "name": "ipython",
    "version": 3
   },
   "file_extension": ".py",
   "mimetype": "text/x-python",
   "name": "python",
   "nbconvert_exporter": "python",
   "pygments_lexer": "ipython3",
   "version": "3.5.2"
  }
 },
 "nbformat": 4,
 "nbformat_minor": 2
}
